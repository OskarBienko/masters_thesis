{
 "cells": [
  {
   "cell_type": "code",
   "execution_count": 7,
   "metadata": {},
   "outputs": [],
   "source": [
    "import os\n",
    "from utils import *\n",
    "import pandas as pd\n",
    "import plotly.io as pio\n",
    "import plotly.express as px\n",
    "pio.renderers.default = 'vscode'\n",
    "os.chdir(path=os.getcwd().rstrip('\\\\code'))"
   ]
  },
  {
   "attachments": {},
   "cell_type": "markdown",
   "metadata": {},
   "source": [
    "# Get data"
   ]
  },
  {
   "cell_type": "code",
   "execution_count": 8,
   "metadata": {},
   "outputs": [
    {
     "data": {
      "text/html": [
       "<div>\n",
       "<style scoped>\n",
       "    .dataframe tbody tr th:only-of-type {\n",
       "        vertical-align: middle;\n",
       "    }\n",
       "\n",
       "    .dataframe tbody tr th {\n",
       "        vertical-align: top;\n",
       "    }\n",
       "\n",
       "    .dataframe thead th {\n",
       "        text-align: right;\n",
       "    }\n",
       "</style>\n",
       "<table border=\"1\" class=\"dataframe\">\n",
       "  <thead>\n",
       "    <tr style=\"text-align: right;\">\n",
       "      <th></th>\n",
       "      <th>company_name</th>\n",
       "      <th>is_offering_new_shares</th>\n",
       "      <th>is_offering_existing_shares</th>\n",
       "      <th>is_moving</th>\n",
       "      <th>is_privatized</th>\n",
       "      <th>is_foreign</th>\n",
       "      <th>retail_reduction_rate</th>\n",
       "      <th>sector</th>\n",
       "      <th>market_volatility</th>\n",
       "      <th>market_return</th>\n",
       "      <th>air</th>\n",
       "      <th>target</th>\n",
       "      <th>date_gap</th>\n",
       "      <th>reference_rate</th>\n",
       "      <th>year</th>\n",
       "      <th>log_value</th>\n",
       "      <th>log_price</th>\n",
       "      <th>const</th>\n",
       "      <th>target_lag1</th>\n",
       "    </tr>\n",
       "    <tr>\n",
       "      <th>listing_date</th>\n",
       "      <th></th>\n",
       "      <th></th>\n",
       "      <th></th>\n",
       "      <th></th>\n",
       "      <th></th>\n",
       "      <th></th>\n",
       "      <th></th>\n",
       "      <th></th>\n",
       "      <th></th>\n",
       "      <th></th>\n",
       "      <th></th>\n",
       "      <th></th>\n",
       "      <th></th>\n",
       "      <th></th>\n",
       "      <th></th>\n",
       "      <th></th>\n",
       "      <th></th>\n",
       "      <th></th>\n",
       "      <th></th>\n",
       "    </tr>\n",
       "  </thead>\n",
       "  <tbody>\n",
       "    <tr>\n",
       "      <th>2005-01-14</th>\n",
       "      <td>COMP</td>\n",
       "      <td>1</td>\n",
       "      <td>0</td>\n",
       "      <td>0</td>\n",
       "      <td>0</td>\n",
       "      <td>0</td>\n",
       "      <td>0.00</td>\n",
       "      <td>information_technology</td>\n",
       "      <td>0.75</td>\n",
       "      <td>-2.87</td>\n",
       "      <td>14.69</td>\n",
       "      <td>1</td>\n",
       "      <td>12</td>\n",
       "      <td>6.50</td>\n",
       "      <td>2005</td>\n",
       "      <td>16.851064</td>\n",
       "      <td>3.624341</td>\n",
       "      <td>1</td>\n",
       "      <td>1.0</td>\n",
       "    </tr>\n",
       "    <tr>\n",
       "      <th>2005-01-27</th>\n",
       "      <td>ZELMER</td>\n",
       "      <td>0</td>\n",
       "      <td>1</td>\n",
       "      <td>0</td>\n",
       "      <td>0</td>\n",
       "      <td>0</td>\n",
       "      <td>98.70</td>\n",
       "      <td>heavy_industry</td>\n",
       "      <td>0.75</td>\n",
       "      <td>1.20</td>\n",
       "      <td>32.19</td>\n",
       "      <td>1</td>\n",
       "      <td>8</td>\n",
       "      <td>6.50</td>\n",
       "      <td>2005</td>\n",
       "      <td>18.945634</td>\n",
       "      <td>2.580217</td>\n",
       "      <td>1</td>\n",
       "      <td>1.0</td>\n",
       "    </tr>\n",
       "    <tr>\n",
       "      <th>2005-02-04</th>\n",
       "      <td>EUROCASH</td>\n",
       "      <td>0</td>\n",
       "      <td>1</td>\n",
       "      <td>0</td>\n",
       "      <td>0</td>\n",
       "      <td>0</td>\n",
       "      <td>43.80</td>\n",
       "      <td>retail_and_consumer_industry</td>\n",
       "      <td>0.68</td>\n",
       "      <td>1.12</td>\n",
       "      <td>3.87</td>\n",
       "      <td>1</td>\n",
       "      <td>5</td>\n",
       "      <td>6.50</td>\n",
       "      <td>2005</td>\n",
       "      <td>18.998418</td>\n",
       "      <td>1.131402</td>\n",
       "      <td>1</td>\n",
       "      <td>1.0</td>\n",
       "    </tr>\n",
       "    <tr>\n",
       "      <th>2005-02-10</th>\n",
       "      <td>CIECH</td>\n",
       "      <td>1</td>\n",
       "      <td>1</td>\n",
       "      <td>0</td>\n",
       "      <td>1</td>\n",
       "      <td>0</td>\n",
       "      <td>95.63</td>\n",
       "      <td>raw_materials</td>\n",
       "      <td>0.75</td>\n",
       "      <td>4.01</td>\n",
       "      <td>16.10</td>\n",
       "      <td>1</td>\n",
       "      <td>11</td>\n",
       "      <td>6.50</td>\n",
       "      <td>2005</td>\n",
       "      <td>19.440672</td>\n",
       "      <td>3.178054</td>\n",
       "      <td>1</td>\n",
       "      <td>1.0</td>\n",
       "    </tr>\n",
       "    <tr>\n",
       "      <th>2005-02-11</th>\n",
       "      <td>GRAAL</td>\n",
       "      <td>1</td>\n",
       "      <td>0</td>\n",
       "      <td>0</td>\n",
       "      <td>0</td>\n",
       "      <td>0</td>\n",
       "      <td>0.00</td>\n",
       "      <td>retail_and_consumer_industry</td>\n",
       "      <td>0.75</td>\n",
       "      <td>4.21</td>\n",
       "      <td>-5.93</td>\n",
       "      <td>0</td>\n",
       "      <td>11</td>\n",
       "      <td>6.50</td>\n",
       "      <td>2005</td>\n",
       "      <td>16.901820</td>\n",
       "      <td>2.708050</td>\n",
       "      <td>1</td>\n",
       "      <td>1.0</td>\n",
       "    </tr>\n",
       "    <tr>\n",
       "      <th>...</th>\n",
       "      <td>...</td>\n",
       "      <td>...</td>\n",
       "      <td>...</td>\n",
       "      <td>...</td>\n",
       "      <td>...</td>\n",
       "      <td>...</td>\n",
       "      <td>...</td>\n",
       "      <td>...</td>\n",
       "      <td>...</td>\n",
       "      <td>...</td>\n",
       "      <td>...</td>\n",
       "      <td>...</td>\n",
       "      <td>...</td>\n",
       "      <td>...</td>\n",
       "      <td>...</td>\n",
       "      <td>...</td>\n",
       "      <td>...</td>\n",
       "      <td>...</td>\n",
       "      <td>...</td>\n",
       "    </tr>\n",
       "    <tr>\n",
       "      <th>2021-12-07</th>\n",
       "      <td>BIG CHEESE STUDIO</td>\n",
       "      <td>1</td>\n",
       "      <td>1</td>\n",
       "      <td>0</td>\n",
       "      <td>0</td>\n",
       "      <td>0</td>\n",
       "      <td>68.68</td>\n",
       "      <td>information_technology</td>\n",
       "      <td>1.08</td>\n",
       "      <td>-7.80</td>\n",
       "      <td>-2.20</td>\n",
       "      <td>0</td>\n",
       "      <td>21</td>\n",
       "      <td>1.25</td>\n",
       "      <td>2021</td>\n",
       "      <td>17.144289</td>\n",
       "      <td>3.555348</td>\n",
       "      <td>1</td>\n",
       "      <td>0.0</td>\n",
       "    </tr>\n",
       "    <tr>\n",
       "      <th>2021-12-09</th>\n",
       "      <td>GRUPA PRACUJ</td>\n",
       "      <td>0</td>\n",
       "      <td>1</td>\n",
       "      <td>0</td>\n",
       "      <td>0</td>\n",
       "      <td>0</td>\n",
       "      <td>87.67</td>\n",
       "      <td>information_technology</td>\n",
       "      <td>1.17</td>\n",
       "      <td>-0.57</td>\n",
       "      <td>-5.03</td>\n",
       "      <td>0</td>\n",
       "      <td>12</td>\n",
       "      <td>1.75</td>\n",
       "      <td>2021</td>\n",
       "      <td>20.836538</td>\n",
       "      <td>4.304065</td>\n",
       "      <td>1</td>\n",
       "      <td>0.0</td>\n",
       "    </tr>\n",
       "    <tr>\n",
       "      <th>2021-12-10</th>\n",
       "      <td>STS HOLDING</td>\n",
       "      <td>0</td>\n",
       "      <td>1</td>\n",
       "      <td>0</td>\n",
       "      <td>0</td>\n",
       "      <td>0</td>\n",
       "      <td>87.20</td>\n",
       "      <td>media</td>\n",
       "      <td>1.16</td>\n",
       "      <td>-0.78</td>\n",
       "      <td>2.64</td>\n",
       "      <td>1</td>\n",
       "      <td>12</td>\n",
       "      <td>1.75</td>\n",
       "      <td>2021</td>\n",
       "      <td>20.798489</td>\n",
       "      <td>3.135494</td>\n",
       "      <td>1</td>\n",
       "      <td>0.0</td>\n",
       "    </tr>\n",
       "    <tr>\n",
       "      <th>2021-12-20</th>\n",
       "      <td>BIO PLANET</td>\n",
       "      <td>1</td>\n",
       "      <td>1</td>\n",
       "      <td>1</td>\n",
       "      <td>0</td>\n",
       "      <td>0</td>\n",
       "      <td>0.00</td>\n",
       "      <td>retail_and_consumer_industry</td>\n",
       "      <td>1.27</td>\n",
       "      <td>-0.98</td>\n",
       "      <td>-5.65</td>\n",
       "      <td>0</td>\n",
       "      <td>15</td>\n",
       "      <td>1.75</td>\n",
       "      <td>2021</td>\n",
       "      <td>16.100401</td>\n",
       "      <td>3.332205</td>\n",
       "      <td>1</td>\n",
       "      <td>1.0</td>\n",
       "    </tr>\n",
       "    <tr>\n",
       "      <th>2022-07-11</th>\n",
       "      <td>CREOTECH INSTRUMENTS</td>\n",
       "      <td>1</td>\n",
       "      <td>0</td>\n",
       "      <td>1</td>\n",
       "      <td>0</td>\n",
       "      <td>0</td>\n",
       "      <td>40.00</td>\n",
       "      <td>information_technology</td>\n",
       "      <td>1.69</td>\n",
       "      <td>2.56</td>\n",
       "      <td>28.26</td>\n",
       "      <td>1</td>\n",
       "      <td>20</td>\n",
       "      <td>6.50</td>\n",
       "      <td>2022</td>\n",
       "      <td>17.495748</td>\n",
       "      <td>4.605170</td>\n",
       "      <td>1</td>\n",
       "      <td>0.0</td>\n",
       "    </tr>\n",
       "  </tbody>\n",
       "</table>\n",
       "<p>320 rows × 19 columns</p>\n",
       "</div>"
      ],
      "text/plain": [
       "                      company_name  is_offering_new_shares  \\\n",
       "listing_date                                                 \n",
       "2005-01-14                    COMP                       1   \n",
       "2005-01-27                  ZELMER                       0   \n",
       "2005-02-04                EUROCASH                       0   \n",
       "2005-02-10                   CIECH                       1   \n",
       "2005-02-11                   GRAAL                       1   \n",
       "...                            ...                     ...   \n",
       "2021-12-07       BIG CHEESE STUDIO                       1   \n",
       "2021-12-09            GRUPA PRACUJ                       0   \n",
       "2021-12-10             STS HOLDING                       0   \n",
       "2021-12-20              BIO PLANET                       1   \n",
       "2022-07-11    CREOTECH INSTRUMENTS                       1   \n",
       "\n",
       "              is_offering_existing_shares  is_moving  is_privatized  \\\n",
       "listing_date                                                          \n",
       "2005-01-14                              0          0              0   \n",
       "2005-01-27                              1          0              0   \n",
       "2005-02-04                              1          0              0   \n",
       "2005-02-10                              1          0              1   \n",
       "2005-02-11                              0          0              0   \n",
       "...                                   ...        ...            ...   \n",
       "2021-12-07                              1          0              0   \n",
       "2021-12-09                              1          0              0   \n",
       "2021-12-10                              1          0              0   \n",
       "2021-12-20                              1          1              0   \n",
       "2022-07-11                              0          1              0   \n",
       "\n",
       "              is_foreign  retail_reduction_rate                        sector  \\\n",
       "listing_date                                                                    \n",
       "2005-01-14             0                   0.00        information_technology   \n",
       "2005-01-27             0                  98.70                heavy_industry   \n",
       "2005-02-04             0                  43.80  retail_and_consumer_industry   \n",
       "2005-02-10             0                  95.63                 raw_materials   \n",
       "2005-02-11             0                   0.00  retail_and_consumer_industry   \n",
       "...                  ...                    ...                           ...   \n",
       "2021-12-07             0                  68.68        information_technology   \n",
       "2021-12-09             0                  87.67        information_technology   \n",
       "2021-12-10             0                  87.20                         media   \n",
       "2021-12-20             0                   0.00  retail_and_consumer_industry   \n",
       "2022-07-11             0                  40.00        information_technology   \n",
       "\n",
       "              market_volatility  market_return    air  target  date_gap  \\\n",
       "listing_date                                                              \n",
       "2005-01-14                 0.75          -2.87  14.69       1        12   \n",
       "2005-01-27                 0.75           1.20  32.19       1         8   \n",
       "2005-02-04                 0.68           1.12   3.87       1         5   \n",
       "2005-02-10                 0.75           4.01  16.10       1        11   \n",
       "2005-02-11                 0.75           4.21  -5.93       0        11   \n",
       "...                         ...            ...    ...     ...       ...   \n",
       "2021-12-07                 1.08          -7.80  -2.20       0        21   \n",
       "2021-12-09                 1.17          -0.57  -5.03       0        12   \n",
       "2021-12-10                 1.16          -0.78   2.64       1        12   \n",
       "2021-12-20                 1.27          -0.98  -5.65       0        15   \n",
       "2022-07-11                 1.69           2.56  28.26       1        20   \n",
       "\n",
       "              reference_rate  year  log_value  log_price  const  target_lag1  \n",
       "listing_date                                                                  \n",
       "2005-01-14              6.50  2005  16.851064   3.624341      1          1.0  \n",
       "2005-01-27              6.50  2005  18.945634   2.580217      1          1.0  \n",
       "2005-02-04              6.50  2005  18.998418   1.131402      1          1.0  \n",
       "2005-02-10              6.50  2005  19.440672   3.178054      1          1.0  \n",
       "2005-02-11              6.50  2005  16.901820   2.708050      1          1.0  \n",
       "...                      ...   ...        ...        ...    ...          ...  \n",
       "2021-12-07              1.25  2021  17.144289   3.555348      1          0.0  \n",
       "2021-12-09              1.75  2021  20.836538   4.304065      1          0.0  \n",
       "2021-12-10              1.75  2021  20.798489   3.135494      1          0.0  \n",
       "2021-12-20              1.75  2021  16.100401   3.332205      1          1.0  \n",
       "2022-07-11              6.50  2022  17.495748   4.605170      1          0.0  \n",
       "\n",
       "[320 rows x 19 columns]"
      ]
     },
     "execution_count": 8,
     "metadata": {},
     "output_type": "execute_result"
    }
   ],
   "source": [
    "ipo = pd.read_pickle(filepath_or_buffer='data/ipo_preprocessed.pkl')\n",
    "ipo"
   ]
  },
  {
   "attachments": {},
   "cell_type": "markdown",
   "metadata": {},
   "source": [
    "# Perform exploratory data analysis"
   ]
  },
  {
   "attachments": {},
   "cell_type": "markdown",
   "metadata": {},
   "source": [
    "### Endogeous variable"
   ]
  },
  {
   "attachments": {},
   "cell_type": "markdown",
   "metadata": {},
   "source": [
    "#### Continuous"
   ]
  },
  {
   "cell_type": "code",
   "execution_count": 9,
   "metadata": {},
   "outputs": [
    {
     "data": {
      "image/png": "[encoded data removed]"
     },
     "metadata": {},
     "output_type": "display_data"
    }
   ],
   "source": [
    "fig = px.scatter(data_frame=ipo.reset_index(), y='air', x='listing_date', width=800, height=500)\n",
    "fig.show(renderer='png')"
   ]
  },
  {
   "cell_type": "code",
   "execution_count": 10,
   "metadata": {},
   "outputs": [
    {
     "data": {
      "text/html": [
       "<div>\n",
       "<style scoped>\n",
       "    .dataframe tbody tr th:only-of-type {\n",
       "        vertical-align: middle;\n",
       "    }\n",
       "\n",
       "    .dataframe tbody tr th {\n",
       "        vertical-align: top;\n",
       "    }\n",
       "\n",
       "    .dataframe thead th {\n",
       "        text-align: right;\n",
       "    }\n",
       "</style>\n",
       "<table border=\"1\" class=\"dataframe\">\n",
       "  <thead>\n",
       "    <tr style=\"text-align: right;\">\n",
       "      <th></th>\n",
       "      <th>company_name</th>\n",
       "      <th>is_offering_new_shares</th>\n",
       "      <th>is_offering_existing_shares</th>\n",
       "      <th>is_moving</th>\n",
       "      <th>is_privatized</th>\n",
       "      <th>is_foreign</th>\n",
       "      <th>retail_reduction_rate</th>\n",
       "      <th>sector</th>\n",
       "      <th>market_volatility</th>\n",
       "      <th>market_return</th>\n",
       "      <th>air</th>\n",
       "      <th>target</th>\n",
       "      <th>date_gap</th>\n",
       "      <th>reference_rate</th>\n",
       "      <th>year</th>\n",
       "      <th>log_value</th>\n",
       "      <th>log_price</th>\n",
       "      <th>const</th>\n",
       "      <th>target_lag1</th>\n",
       "    </tr>\n",
       "    <tr>\n",
       "      <th>listing_date</th>\n",
       "      <th></th>\n",
       "      <th></th>\n",
       "      <th></th>\n",
       "      <th></th>\n",
       "      <th></th>\n",
       "      <th></th>\n",
       "      <th></th>\n",
       "      <th></th>\n",
       "      <th></th>\n",
       "      <th></th>\n",
       "      <th></th>\n",
       "      <th></th>\n",
       "      <th></th>\n",
       "      <th></th>\n",
       "      <th></th>\n",
       "      <th></th>\n",
       "      <th></th>\n",
       "      <th></th>\n",
       "      <th></th>\n",
       "    </tr>\n",
       "  </thead>\n",
       "  <tbody>\n",
       "    <tr>\n",
       "      <th>2006-07-20</th>\n",
       "      <td>INWEST CONSULTING</td>\n",
       "      <td>1</td>\n",
       "      <td>1</td>\n",
       "      <td>0</td>\n",
       "      <td>0</td>\n",
       "      <td>0</td>\n",
       "      <td>95.0</td>\n",
       "      <td>finance</td>\n",
       "      <td>1.62</td>\n",
       "      <td>11.31</td>\n",
       "      <td>480.07</td>\n",
       "      <td>1</td>\n",
       "      <td>19</td>\n",
       "      <td>4.0</td>\n",
       "      <td>2006</td>\n",
       "      <td>15.50745</td>\n",
       "      <td>1.321756</td>\n",
       "      <td>1</td>\n",
       "      <td>1.0</td>\n",
       "    </tr>\n",
       "  </tbody>\n",
       "</table>\n",
       "</div>"
      ],
      "text/plain": [
       "                   company_name  is_offering_new_shares  \\\n",
       "listing_date                                              \n",
       "2006-07-20    INWEST CONSULTING                       1   \n",
       "\n",
       "              is_offering_existing_shares  is_moving  is_privatized  \\\n",
       "listing_date                                                          \n",
       "2006-07-20                              1          0              0   \n",
       "\n",
       "              is_foreign  retail_reduction_rate   sector  market_volatility  \\\n",
       "listing_date                                                                  \n",
       "2006-07-20             0                   95.0  finance               1.62   \n",
       "\n",
       "              market_return     air  target  date_gap  reference_rate  year  \\\n",
       "listing_date                                                                  \n",
       "2006-07-20            11.31  480.07       1        19             4.0  2006   \n",
       "\n",
       "              log_value  log_price  const  target_lag1  \n",
       "listing_date                                            \n",
       "2006-07-20     15.50745   1.321756      1          1.0  "
      ]
     },
     "execution_count": 10,
     "metadata": {},
     "output_type": "execute_result"
    }
   ],
   "source": [
    "# Outlier, but it's legit - it really happened in the past\n",
    "# Source: https://biznes.interia.pl/gieldy/aktualnosci/news-gielda-rekordowy-debiut-na-parkiecie,nId,3538141\n",
    "ipo[ipo['air'] > 400]"
   ]
  },
  {
   "cell_type": "code",
   "execution_count": 11,
   "metadata": {},
   "outputs": [
    {
     "data": {
      "text/html": [
       "<div>\n",
       "<style scoped>\n",
       "    .dataframe tbody tr th:only-of-type {\n",
       "        vertical-align: middle;\n",
       "    }\n",
       "\n",
       "    .dataframe tbody tr th {\n",
       "        vertical-align: top;\n",
       "    }\n",
       "\n",
       "    .dataframe thead th {\n",
       "        text-align: right;\n",
       "    }\n",
       "</style>\n",
       "<table border=\"1\" class=\"dataframe\">\n",
       "  <thead>\n",
       "    <tr style=\"text-align: right;\">\n",
       "      <th></th>\n",
       "      <th>company_name</th>\n",
       "      <th>is_offering_new_shares</th>\n",
       "      <th>is_offering_existing_shares</th>\n",
       "      <th>is_moving</th>\n",
       "      <th>is_privatized</th>\n",
       "      <th>is_foreign</th>\n",
       "      <th>retail_reduction_rate</th>\n",
       "      <th>sector</th>\n",
       "      <th>market_volatility</th>\n",
       "      <th>market_return</th>\n",
       "      <th>air</th>\n",
       "      <th>target</th>\n",
       "      <th>date_gap</th>\n",
       "      <th>reference_rate</th>\n",
       "      <th>year</th>\n",
       "      <th>log_value</th>\n",
       "      <th>log_price</th>\n",
       "      <th>const</th>\n",
       "      <th>target_lag1</th>\n",
       "    </tr>\n",
       "    <tr>\n",
       "      <th>listing_date</th>\n",
       "      <th></th>\n",
       "      <th></th>\n",
       "      <th></th>\n",
       "      <th></th>\n",
       "      <th></th>\n",
       "      <th></th>\n",
       "      <th></th>\n",
       "      <th></th>\n",
       "      <th></th>\n",
       "      <th></th>\n",
       "      <th></th>\n",
       "      <th></th>\n",
       "      <th></th>\n",
       "      <th></th>\n",
       "      <th></th>\n",
       "      <th></th>\n",
       "      <th></th>\n",
       "      <th></th>\n",
       "      <th></th>\n",
       "    </tr>\n",
       "  </thead>\n",
       "  <tbody>\n",
       "    <tr>\n",
       "      <th>2008-12-22</th>\n",
       "      <td>IZNS IŁAWA</td>\n",
       "      <td>1</td>\n",
       "      <td>0</td>\n",
       "      <td>0</td>\n",
       "      <td>0</td>\n",
       "      <td>0</td>\n",
       "      <td>0.0</td>\n",
       "      <td>heavy_industry</td>\n",
       "      <td>2.28</td>\n",
       "      <td>5.6</td>\n",
       "      <td>-72.2</td>\n",
       "      <td>0</td>\n",
       "      <td>25</td>\n",
       "      <td>5.75</td>\n",
       "      <td>2008</td>\n",
       "      <td>11.814148</td>\n",
       "      <td>0.993252</td>\n",
       "      <td>1</td>\n",
       "      <td>0.0</td>\n",
       "    </tr>\n",
       "  </tbody>\n",
       "</table>\n",
       "</div>"
      ],
      "text/plain": [
       "             company_name  is_offering_new_shares  \\\n",
       "listing_date                                        \n",
       "2008-12-22     IZNS IŁAWA                       1   \n",
       "\n",
       "              is_offering_existing_shares  is_moving  is_privatized  \\\n",
       "listing_date                                                          \n",
       "2008-12-22                              0          0              0   \n",
       "\n",
       "              is_foreign  retail_reduction_rate          sector  \\\n",
       "listing_date                                                      \n",
       "2008-12-22             0                    0.0  heavy_industry   \n",
       "\n",
       "              market_volatility  market_return   air  target  date_gap  \\\n",
       "listing_date                                                             \n",
       "2008-12-22                 2.28            5.6 -72.2       0        25   \n",
       "\n",
       "              reference_rate  year  log_value  log_price  const  target_lag1  \n",
       "listing_date                                                                  \n",
       "2008-12-22              5.75  2008  11.814148   0.993252      1          0.0  "
      ]
     },
     "execution_count": 11,
     "metadata": {},
     "output_type": "execute_result"
    }
   ],
   "source": [
    "# Outlier, but it's legit - it really happened in the past\n",
    "# Source: https://finanse.wp.pl/kurs-izns-ilawa-traci-w-debiucie-na-gpw-ponad-60-proc-opis-6116763748710529a\n",
    "ipo[ipo['air'] < -50]"
   ]
  },
  {
   "cell_type": "code",
   "execution_count": 12,
   "metadata": {},
   "outputs": [
    {
     "name": "stdout",
     "output_type": "stream",
     "text": [
      "The null hypothesis of the Augmented Dickey-Fuller is that there is a unit root (series is not stationary).\n",
      "The alternative hypothesis is that there is no unit root.\n",
      "p-value = P(reject H0|H0 true)\n",
      "p-value for air is equal to 0.236.\n",
      "p-value > 0.05, hence there is not enough evidence to reject H0 -> the process is not stationary!\n",
      "\n",
      "==============================\n",
      "The null hypothesis of the Kwiatkowski-Phillips-Schmidt-Shin is that the process is trend stationary.\n",
      "The alternative hypothesis is that there is a unit root (series is not stationary).\n",
      "p-value = P(reject H0|H0 true)\n",
      "p-value for air is equal to 0.01.\n",
      "p-value < 0.05, hence there is enough evidence to reject H0 -> the process is not stationary!\n"
     ]
    }
   ],
   "source": [
    "perform_stationarity_test(df=ipo, col_name='air')"
   ]
  },
  {
   "cell_type": "code",
   "execution_count": 13,
   "metadata": {},
   "outputs": [
    {
     "name": "stdout",
     "output_type": "stream",
     "text": [
      "The null hypothesis of the Augmented Dickey-Fuller is that there is a unit root (series is not stationary).\n",
      "The alternative hypothesis is that there is no unit root.\n",
      "p-value = P(reject H0|H0 true)\n",
      "p-value for air is equal to 0.088.\n",
      "p-value > 0.05, hence there is not enough evidence to reject H0 -> the process is not stationary!\n",
      "\n",
      "==============================\n",
      "The null hypothesis of the Kwiatkowski-Phillips-Schmidt-Shin is that the process is trend stationary.\n",
      "The alternative hypothesis is that there is a unit root (series is not stationary).\n",
      "p-value = P(reject H0|H0 true)\n",
      "p-value for air is equal to 0.01.\n",
      "p-value < 0.05, hence there is enough evidence to reject H0 -> the process is not stationary!\n"
     ]
    }
   ],
   "source": [
    "# Bonus test - remove one outlier and check stationarity\n",
    "perform_stationarity_test(df=ipo[ipo['air'] < 400], col_name='air')"
   ]
  },
  {
   "cell_type": "code",
   "execution_count": 14,
   "metadata": {},
   "outputs": [
    {
     "name": "stdout",
     "output_type": "stream",
     "text": [
      "The null hypothesis of Ljung-Box test is that the autocorrelations of any order up to 10 are all zero.\n",
      "p-value = P(reject H0|H0 true)\n",
      "p-values of Ljung-Box test are: [0.015, 0.015, 0.037, 0.054, 0.096, 0.126, 0.104, 0.118, 0.164, 0.18]\n",
      "p-values > 0.05, hence there is not enough evidence to reject H0 -> the series is uncorrelated at lags [4, 5, 6, 7, 8, 9, 10]\n",
      "p-values < 0.05, hence there is enough evidence to reject H0 -> the series is autocorrelated at lags [1, 2, 3]\n"
     ]
    }
   ],
   "source": [
    "perform_autocorrelation_test(series=ipo['air'], order=10)"
   ]
  },
  {
   "cell_type": "code",
   "execution_count": 15,
   "metadata": {},
   "outputs": [
    {
     "name": "stdout",
     "output_type": "stream",
     "text": [
      "The null hypothesis of both Jarque-Bera and Shapiro-Wilk tests is that the sample was drawn from a normal distribution.\n",
      "p-value = P(reject H0|H0 true)\n",
      "p-value of Jarque-Bera test is equal to: 0.0\n",
      "p-value of Shapiro-Wilk test is equal to: 0.0\n",
      "both Jarque-Bera and Shapiro-Wilk p-values < 0.05, hence hence there is enough evidence to reject H0 -> the sample does not follow a normal distribution!\n"
     ]
    }
   ],
   "source": [
    "perform_normality_test(df=ipo, col_name='air')"
   ]
  },
  {
   "attachments": {},
   "cell_type": "markdown",
   "metadata": {},
   "source": [
    "#### Categorical"
   ]
  },
  {
   "cell_type": "code",
   "execution_count": 16,
   "metadata": {},
   "outputs": [
    {
     "data": {
      "text/plain": [
       "0.69"
      ]
     },
     "execution_count": 16,
     "metadata": {},
     "output_type": "execute_result"
    }
   ],
   "source": [
    "# Dependent variable is fairly unbalanced. \n",
    "# This is indicative of bias - most initial public offers on the Warsaw Stock Exchange are underpriced.\n",
    "np.round(len(ipo[ipo['target'] == 1]) / len(ipo), 2)"
   ]
  },
  {
   "cell_type": "code",
   "execution_count": 17,
   "metadata": {},
   "outputs": [
    {
     "name": "stdout",
     "output_type": "stream",
     "text": [
      "The null hypothesis of Ljung-Box test is that the autocorrelations of any order up to 10 are all zero.\n",
      "p-value = P(reject H0|H0 true)\n",
      "p-values of Ljung-Box test are: [0.002, 0.001, 0.002, 0.005, 0.008, 0.014, 0.026, 0.039, 0.06, 0.02]\n",
      "p-values > 0.05, hence there is not enough evidence to reject H0 -> the series is uncorrelated at lags [9]\n",
      "p-values < 0.05, hence there is enough evidence to reject H0 -> the series is autocorrelated at lags [1, 2, 3, 4, 5, 6, 7, 8, 10]\n"
     ]
    }
   ],
   "source": [
    "perform_autocorrelation_test(series=ipo['target'], order=10)"
   ]
  },
  {
   "attachments": {},
   "cell_type": "markdown",
   "metadata": {},
   "source": [
    "### Bivariate relationships"
   ]
  },
  {
   "attachments": {},
   "cell_type": "markdown",
   "metadata": {},
   "source": [
    "#### Continuous exogenous variables\n",
    "\n",
    "Firstly, take a look at boxplots to see if there is a bivariate relationship between endogenous and exogenous variable."
   ]
  },
  {
   "cell_type": "code",
   "execution_count": 18,
   "metadata": {},
   "outputs": [
    {
     "data": {
      "image/png": "[encoded data removed]"
     },
     "metadata": {},
     "output_type": "display_data"
    }
   ],
   "source": [
    "fig = px.box(data_frame=ipo, x='target', y='retail_reduction_rate', width=800, height=500)\n",
    "fig.show(renderer='png')"
   ]
  },
  {
   "cell_type": "code",
   "execution_count": 19,
   "metadata": {},
   "outputs": [
    {
     "data": {
      "image/png": "[encoded data removed]"
     },
     "metadata": {},
     "output_type": "display_data"
    }
   ],
   "source": [
    "fig = px.box(data_frame=ipo, x='target', y='market_volatility', width=800, height=500)\n",
    "fig.show(renderer='png')"
   ]
  },
  {
   "cell_type": "code",
   "execution_count": 20,
   "metadata": {},
   "outputs": [
    {
     "data": {
      "image/png": "[encoded data removed]"
     },
     "metadata": {},
     "output_type": "display_data"
    }
   ],
   "source": [
    "fig = px.box(data_frame=ipo, x='target', y='market_return', width=800, height=500)\n",
    "fig.show(renderer='png')"
   ]
  },
  {
   "cell_type": "code",
   "execution_count": 21,
   "metadata": {},
   "outputs": [
    {
     "data": {
      "image/png": "[encoded data removed]"
     },
     "metadata": {},
     "output_type": "display_data"
    }
   ],
   "source": [
    "fig = px.box(data_frame=ipo, x='target', y='date_gap', width=800, height=500)\n",
    "fig.show(renderer='png')"
   ]
  },
  {
   "cell_type": "code",
   "execution_count": 22,
   "metadata": {},
   "outputs": [
    {
     "data": {
      "image/png": "[encoded data removed]"
     },
     "metadata": {},
     "output_type": "display_data"
    }
   ],
   "source": [
    "fig = px.box(data_frame=ipo, x='target', y='log_value', width=800, height=500)\n",
    "fig.show(renderer='png')"
   ]
  },
  {
   "cell_type": "code",
   "execution_count": 23,
   "metadata": {},
   "outputs": [
    {
     "data": {
      "image/png": "[encoded data removed]"
     },
     "metadata": {},
     "output_type": "display_data"
    }
   ],
   "source": [
    "fig = px.box(data_frame=ipo, x='target', y='reference_rate', width=800, height=500)\n",
    "fig.show(renderer='png')"
   ]
  },
  {
   "cell_type": "code",
   "execution_count": 24,
   "metadata": {},
   "outputs": [
    {
     "data": {
      "image/png": "[encoded data removed]"
     },
     "metadata": {},
     "output_type": "display_data"
    }
   ],
   "source": [
    "fig = px.box(data_frame=ipo, x='target', y='year', width=800, height=500)\n",
    "fig.show(renderer='png')"
   ]
  },
  {
   "cell_type": "code",
   "execution_count": 25,
   "metadata": {},
   "outputs": [
    {
     "data": {
      "image/png": "[encoded data removed]"
     },
     "metadata": {},
     "output_type": "display_data"
    }
   ],
   "source": [
    "fig = px.box(data_frame=ipo, x='target', y='log_price', width=800, height=500)\n",
    "fig.show(renderer='png')"
   ]
  },
  {
   "cell_type": "code",
   "execution_count": 26,
   "metadata": {},
   "outputs": [
    {
     "data": {
      "text/html": [
       "<div>\n",
       "<style scoped>\n",
       "    .dataframe tbody tr th:only-of-type {\n",
       "        vertical-align: middle;\n",
       "    }\n",
       "\n",
       "    .dataframe tbody tr th {\n",
       "        vertical-align: top;\n",
       "    }\n",
       "\n",
       "    .dataframe thead th {\n",
       "        text-align: right;\n",
       "    }\n",
       "</style>\n",
       "<table border=\"1\" class=\"dataframe\">\n",
       "  <thead>\n",
       "    <tr style=\"text-align: right;\">\n",
       "      <th></th>\n",
       "      <th>company_name</th>\n",
       "      <th>is_offering_new_shares</th>\n",
       "      <th>is_offering_existing_shares</th>\n",
       "      <th>is_moving</th>\n",
       "      <th>is_privatized</th>\n",
       "      <th>is_foreign</th>\n",
       "      <th>retail_reduction_rate</th>\n",
       "      <th>sector</th>\n",
       "      <th>market_volatility</th>\n",
       "      <th>market_return</th>\n",
       "      <th>air</th>\n",
       "      <th>target</th>\n",
       "      <th>date_gap</th>\n",
       "      <th>reference_rate</th>\n",
       "      <th>year</th>\n",
       "      <th>log_value</th>\n",
       "      <th>log_price</th>\n",
       "      <th>const</th>\n",
       "      <th>target_lag1</th>\n",
       "    </tr>\n",
       "    <tr>\n",
       "      <th>listing_date</th>\n",
       "      <th></th>\n",
       "      <th></th>\n",
       "      <th></th>\n",
       "      <th></th>\n",
       "      <th></th>\n",
       "      <th></th>\n",
       "      <th></th>\n",
       "      <th></th>\n",
       "      <th></th>\n",
       "      <th></th>\n",
       "      <th></th>\n",
       "      <th></th>\n",
       "      <th></th>\n",
       "      <th></th>\n",
       "      <th></th>\n",
       "      <th></th>\n",
       "      <th></th>\n",
       "      <th></th>\n",
       "      <th></th>\n",
       "    </tr>\n",
       "  </thead>\n",
       "  <tbody>\n",
       "    <tr>\n",
       "      <th>2013-06-25</th>\n",
       "      <td>PLATINUM PROPERTIES GROUP</td>\n",
       "      <td>1</td>\n",
       "      <td>0</td>\n",
       "      <td>1</td>\n",
       "      <td>0</td>\n",
       "      <td>0</td>\n",
       "      <td>0.0</td>\n",
       "      <td>real_estate</td>\n",
       "      <td>1.35</td>\n",
       "      <td>-4.88</td>\n",
       "      <td>-30.62</td>\n",
       "      <td>0</td>\n",
       "      <td>73</td>\n",
       "      <td>2.75</td>\n",
       "      <td>2013</td>\n",
       "      <td>15.834334</td>\n",
       "      <td>-0.941609</td>\n",
       "      <td>1</td>\n",
       "      <td>1.0</td>\n",
       "    </tr>\n",
       "  </tbody>\n",
       "</table>\n",
       "</div>"
      ],
      "text/plain": [
       "                           company_name  is_offering_new_shares  \\\n",
       "listing_date                                                      \n",
       "2013-06-25    PLATINUM PROPERTIES GROUP                       1   \n",
       "\n",
       "              is_offering_existing_shares  is_moving  is_privatized  \\\n",
       "listing_date                                                          \n",
       "2013-06-25                              0          1              0   \n",
       "\n",
       "              is_foreign  retail_reduction_rate       sector  \\\n",
       "listing_date                                                   \n",
       "2013-06-25             0                    0.0  real_estate   \n",
       "\n",
       "              market_volatility  market_return    air  target  date_gap  \\\n",
       "listing_date                                                              \n",
       "2013-06-25                 1.35          -4.88 -30.62       0        73   \n",
       "\n",
       "              reference_rate  year  log_value  log_price  const  target_lag1  \n",
       "listing_date                                                                  \n",
       "2013-06-25              2.75  2013  15.834334  -0.941609      1          1.0  "
      ]
     },
     "execution_count": 26,
     "metadata": {},
     "output_type": "execute_result"
    }
   ],
   "source": [
    "# Check the outlier - its' legit\n",
    "ipo[ipo['log_price'] < 0]"
   ]
  },
  {
   "attachments": {},
   "cell_type": "markdown",
   "metadata": {},
   "source": [
    "Summary\n",
    "* The obvious conclusion to be drawn from these tests is that the only continuous exogenous variables that are somehow connected with underpricing are: `retail_reduction_rate` and `market_return`.\n",
    "* Let's take a deeper look into them. "
   ]
  },
  {
   "cell_type": "code",
   "execution_count": 27,
   "metadata": {},
   "outputs": [
    {
     "name": "stdout",
     "output_type": "stream",
     "text": [
      "The null hypothesis of the Augmented Dickey-Fuller is that there is a unit root (series is not stationary).\n",
      "The alternative hypothesis is that there is no unit root.\n",
      "p-value = P(reject H0|H0 true)\n",
      "p-value for retail_reduction_rate is equal to 0.258.\n",
      "p-value > 0.05, hence there is not enough evidence to reject H0 -> the process is not stationary!\n",
      "\n",
      "==============================\n",
      "The null hypothesis of the Kwiatkowski-Phillips-Schmidt-Shin is that the process is trend stationary.\n",
      "The alternative hypothesis is that there is a unit root (series is not stationary).\n",
      "p-value = P(reject H0|H0 true)\n",
      "p-value for retail_reduction_rate is equal to 0.01.\n",
      "p-value < 0.05, hence there is enough evidence to reject H0 -> the process is not stationary!\n"
     ]
    }
   ],
   "source": [
    "perform_stationarity_test(df=ipo, col_name='retail_reduction_rate')"
   ]
  },
  {
   "cell_type": "code",
   "execution_count": 28,
   "metadata": {},
   "outputs": [
    {
     "name": "stdout",
     "output_type": "stream",
     "text": [
      "The null hypothesis of Ljung-Box test is that the autocorrelations of any order up to 10 are all zero.\n",
      "p-value = P(reject H0|H0 true)\n",
      "p-values of Ljung-Box test are: [0.0, 0.0, 0.0, 0.0, 0.0, 0.0, 0.0, 0.0, 0.0, 0.0]\n",
      "p-values > 0.05, hence there is not enough evidence to reject H0 -> the series is uncorrelated at lags []\n",
      "p-values < 0.05, hence there is enough evidence to reject H0 -> the series is autocorrelated at lags [1, 2, 3, 4, 5, 6, 7, 8, 9, 10]\n"
     ]
    }
   ],
   "source": [
    "perform_autocorrelation_test(series=ipo['retail_reduction_rate'], order=10)"
   ]
  },
  {
   "cell_type": "code",
   "execution_count": 29,
   "metadata": {},
   "outputs": [
    {
     "name": "stdout",
     "output_type": "stream",
     "text": [
      "The null hypothesis of both Jarque-Bera and Shapiro-Wilk tests is that the sample was drawn from a normal distribution.\n",
      "p-value = P(reject H0|H0 true)\n",
      "p-value of Jarque-Bera test is equal to: 0.0\n",
      "p-value of Shapiro-Wilk test is equal to: 0.0\n",
      "both Jarque-Bera and Shapiro-Wilk p-values < 0.05, hence hence there is enough evidence to reject H0 -> the sample does not follow a normal distribution!\n"
     ]
    }
   ],
   "source": [
    "perform_normality_test(df=ipo, col_name='retail_reduction_rate')"
   ]
  },
  {
   "cell_type": "code",
   "execution_count": 30,
   "metadata": {},
   "outputs": [
    {
     "name": "stdout",
     "output_type": "stream",
     "text": [
      "The null hypothesis of the Augmented Dickey-Fuller is that there is a unit root (series is not stationary).\n",
      "The alternative hypothesis is that there is no unit root.\n",
      "p-value = P(reject H0|H0 true)\n",
      "p-value for market_return is equal to 0.022.\n",
      "p-value < 0.05, hence there is enough evidence to reject H0 -> thus the process is stationary!\n",
      "\n",
      "==============================\n",
      "The null hypothesis of the Kwiatkowski-Phillips-Schmidt-Shin is that the process is trend stationary.\n",
      "The alternative hypothesis is that there is a unit root (series is not stationary).\n",
      "p-value = P(reject H0|H0 true)\n",
      "p-value for market_return is equal to 0.082.\n",
      "p-value > 0.05, hence there is not enough evidence to reject H0 -> the process is stationary!\n"
     ]
    }
   ],
   "source": [
    "perform_stationarity_test(df=ipo, col_name='market_return')"
   ]
  },
  {
   "cell_type": "code",
   "execution_count": 31,
   "metadata": {},
   "outputs": [
    {
     "name": "stdout",
     "output_type": "stream",
     "text": [
      "The null hypothesis of Ljung-Box test is that the autocorrelations of any order up to 10 are all zero.\n",
      "p-value = P(reject H0|H0 true)\n",
      "p-values of Ljung-Box test are: [0.0, 0.0, 0.0, 0.0, 0.0, 0.0, 0.0, 0.0, 0.0, 0.0]\n",
      "p-values > 0.05, hence there is not enough evidence to reject H0 -> the series is uncorrelated at lags []\n",
      "p-values < 0.05, hence there is enough evidence to reject H0 -> the series is autocorrelated at lags [1, 2, 3, 4, 5, 6, 7, 8, 9, 10]\n"
     ]
    }
   ],
   "source": [
    "perform_autocorrelation_test(series=ipo['market_return'], order=10)"
   ]
  },
  {
   "cell_type": "code",
   "execution_count": 32,
   "metadata": {},
   "outputs": [
    {
     "name": "stdout",
     "output_type": "stream",
     "text": [
      "The null hypothesis of both Jarque-Bera and Shapiro-Wilk tests is that the sample was drawn from a normal distribution.\n",
      "p-value = P(reject H0|H0 true)\n",
      "p-value of Jarque-Bera test is equal to: 0.0\n",
      "p-value of Shapiro-Wilk test is equal to: 0.0\n",
      "both Jarque-Bera and Shapiro-Wilk p-values < 0.05, hence hence there is enough evidence to reject H0 -> the sample does not follow a normal distribution!\n"
     ]
    }
   ],
   "source": [
    "perform_normality_test(df=ipo, col_name='market_return')"
   ]
  },
  {
   "attachments": {},
   "cell_type": "markdown",
   "metadata": {},
   "source": [
    "#### Categorical exogenous variables\n",
    "Let's use chi-square test for independence to check if categorical endogenous and exogenous variables are likely to be related or not."
   ]
  },
  {
   "cell_type": "code",
   "execution_count": 33,
   "metadata": {},
   "outputs": [
    {
     "name": "stdout",
     "output_type": "stream",
     "text": [
      "The null hypothesis of the chi-square test of independence is that the series_1 is independent of series_2.\n",
      "p-value = P(reject H0|H0 true)\n",
      "p-value of the chi-square test of independence is equal to: 0.959\n",
      "p-value > 0.05, hence there is not enough evidence to reject H0 -> series_2 is independent of series_1!\n"
     ]
    },
    {
     "data": {
      "text/html": [
       "<div>\n",
       "<style scoped>\n",
       "    .dataframe tbody tr th:only-of-type {\n",
       "        vertical-align: middle;\n",
       "    }\n",
       "\n",
       "    .dataframe tbody tr th {\n",
       "        vertical-align: top;\n",
       "    }\n",
       "\n",
       "    .dataframe thead th {\n",
       "        text-align: right;\n",
       "    }\n",
       "</style>\n",
       "<table border=\"1\" class=\"dataframe\">\n",
       "  <thead>\n",
       "    <tr style=\"text-align: right;\">\n",
       "      <th>is_foreign</th>\n",
       "      <th>0</th>\n",
       "      <th>1</th>\n",
       "    </tr>\n",
       "    <tr>\n",
       "      <th>target</th>\n",
       "      <th></th>\n",
       "      <th></th>\n",
       "    </tr>\n",
       "  </thead>\n",
       "  <tbody>\n",
       "    <tr>\n",
       "      <th>0</th>\n",
       "      <td>90</td>\n",
       "      <td>10</td>\n",
       "    </tr>\n",
       "    <tr>\n",
       "      <th>1</th>\n",
       "      <td>200</td>\n",
       "      <td>20</td>\n",
       "    </tr>\n",
       "  </tbody>\n",
       "</table>\n",
       "</div>"
      ],
      "text/plain": [
       "is_foreign    0   1\n",
       "target             \n",
       "0            90  10\n",
       "1           200  20"
      ]
     },
     "metadata": {},
     "output_type": "display_data"
    }
   ],
   "source": [
    "perform_chi_square_independence_test(ipo['target'], ipo['is_foreign'])"
   ]
  },
  {
   "cell_type": "code",
   "execution_count": 34,
   "metadata": {},
   "outputs": [
    {
     "name": "stdout",
     "output_type": "stream",
     "text": [
      "The null hypothesis of the chi-square test of independence is that the series_1 is independent of series_2.\n",
      "p-value = P(reject H0|H0 true)\n",
      "p-value of the chi-square test of independence is equal to: 0.816\n",
      "p-value > 0.05, hence there is not enough evidence to reject H0 -> series_2 is independent of series_1!\n"
     ]
    },
    {
     "data": {
      "text/html": [
       "<div>\n",
       "<style scoped>\n",
       "    .dataframe tbody tr th:only-of-type {\n",
       "        vertical-align: middle;\n",
       "    }\n",
       "\n",
       "    .dataframe tbody tr th {\n",
       "        vertical-align: top;\n",
       "    }\n",
       "\n",
       "    .dataframe thead th {\n",
       "        text-align: right;\n",
       "    }\n",
       "</style>\n",
       "<table border=\"1\" class=\"dataframe\">\n",
       "  <thead>\n",
       "    <tr style=\"text-align: right;\">\n",
       "      <th>is_offering_new_shares</th>\n",
       "      <th>0</th>\n",
       "      <th>1</th>\n",
       "    </tr>\n",
       "    <tr>\n",
       "      <th>target</th>\n",
       "      <th></th>\n",
       "      <th></th>\n",
       "    </tr>\n",
       "  </thead>\n",
       "  <tbody>\n",
       "    <tr>\n",
       "      <th>0</th>\n",
       "      <td>13</td>\n",
       "      <td>87</td>\n",
       "    </tr>\n",
       "    <tr>\n",
       "      <th>1</th>\n",
       "      <td>25</td>\n",
       "      <td>195</td>\n",
       "    </tr>\n",
       "  </tbody>\n",
       "</table>\n",
       "</div>"
      ],
      "text/plain": [
       "is_offering_new_shares   0    1\n",
       "target                         \n",
       "0                       13   87\n",
       "1                       25  195"
      ]
     },
     "metadata": {},
     "output_type": "display_data"
    }
   ],
   "source": [
    "perform_chi_square_independence_test(ipo['target'], ipo['is_offering_new_shares'])"
   ]
  },
  {
   "cell_type": "code",
   "execution_count": 35,
   "metadata": {},
   "outputs": [
    {
     "name": "stdout",
     "output_type": "stream",
     "text": [
      "The null hypothesis of the chi-square test of independence is that the series_1 is independent of series_2.\n",
      "p-value = P(reject H0|H0 true)\n",
      "p-value of the chi-square test of independence is equal to: 0.976\n",
      "p-value > 0.05, hence there is not enough evidence to reject H0 -> series_2 is independent of series_1!\n"
     ]
    },
    {
     "data": {
      "text/html": [
       "<div>\n",
       "<style scoped>\n",
       "    .dataframe tbody tr th:only-of-type {\n",
       "        vertical-align: middle;\n",
       "    }\n",
       "\n",
       "    .dataframe tbody tr th {\n",
       "        vertical-align: top;\n",
       "    }\n",
       "\n",
       "    .dataframe thead th {\n",
       "        text-align: right;\n",
       "    }\n",
       "</style>\n",
       "<table border=\"1\" class=\"dataframe\">\n",
       "  <thead>\n",
       "    <tr style=\"text-align: right;\">\n",
       "      <th>is_privatized</th>\n",
       "      <th>0</th>\n",
       "      <th>1</th>\n",
       "    </tr>\n",
       "    <tr>\n",
       "      <th>target</th>\n",
       "      <th></th>\n",
       "      <th></th>\n",
       "    </tr>\n",
       "  </thead>\n",
       "  <tbody>\n",
       "    <tr>\n",
       "      <th>0</th>\n",
       "      <td>94</td>\n",
       "      <td>6</td>\n",
       "    </tr>\n",
       "    <tr>\n",
       "      <th>1</th>\n",
       "      <td>205</td>\n",
       "      <td>15</td>\n",
       "    </tr>\n",
       "  </tbody>\n",
       "</table>\n",
       "</div>"
      ],
      "text/plain": [
       "is_privatized    0   1\n",
       "target                \n",
       "0               94   6\n",
       "1              205  15"
      ]
     },
     "metadata": {},
     "output_type": "display_data"
    }
   ],
   "source": [
    "perform_chi_square_independence_test(ipo['target'], ipo['is_privatized'])"
   ]
  },
  {
   "cell_type": "code",
   "execution_count": 36,
   "metadata": {},
   "outputs": [
    {
     "name": "stdout",
     "output_type": "stream",
     "text": [
      "The null hypothesis of the chi-square test of independence is that the series_1 is independent of series_2.\n",
      "p-value = P(reject H0|H0 true)\n",
      "p-value of the chi-square test of independence is equal to: 0.959\n",
      "p-value > 0.05, hence there is not enough evidence to reject H0 -> series_2 is independent of series_1!\n"
     ]
    },
    {
     "data": {
      "text/html": [
       "<div>\n",
       "<style scoped>\n",
       "    .dataframe tbody tr th:only-of-type {\n",
       "        vertical-align: middle;\n",
       "    }\n",
       "\n",
       "    .dataframe tbody tr th {\n",
       "        vertical-align: top;\n",
       "    }\n",
       "\n",
       "    .dataframe thead th {\n",
       "        text-align: right;\n",
       "    }\n",
       "</style>\n",
       "<table border=\"1\" class=\"dataframe\">\n",
       "  <thead>\n",
       "    <tr style=\"text-align: right;\">\n",
       "      <th>is_foreign</th>\n",
       "      <th>0</th>\n",
       "      <th>1</th>\n",
       "    </tr>\n",
       "    <tr>\n",
       "      <th>target</th>\n",
       "      <th></th>\n",
       "      <th></th>\n",
       "    </tr>\n",
       "  </thead>\n",
       "  <tbody>\n",
       "    <tr>\n",
       "      <th>0</th>\n",
       "      <td>90</td>\n",
       "      <td>10</td>\n",
       "    </tr>\n",
       "    <tr>\n",
       "      <th>1</th>\n",
       "      <td>200</td>\n",
       "      <td>20</td>\n",
       "    </tr>\n",
       "  </tbody>\n",
       "</table>\n",
       "</div>"
      ],
      "text/plain": [
       "is_foreign    0   1\n",
       "target             \n",
       "0            90  10\n",
       "1           200  20"
      ]
     },
     "metadata": {},
     "output_type": "display_data"
    }
   ],
   "source": [
    "perform_chi_square_independence_test(ipo['target'], ipo['is_foreign'])"
   ]
  },
  {
   "cell_type": "code",
   "execution_count": 37,
   "metadata": {},
   "outputs": [
    {
     "name": "stdout",
     "output_type": "stream",
     "text": [
      "The null hypothesis of the chi-square test of independence is that the series_1 is independent of series_2.\n",
      "p-value = P(reject H0|H0 true)\n",
      "p-value of the chi-square test of independence is equal to: 0.045\n",
      "p-value < 0.05, hence there is enough evidence to reject H0 -> series_2 is not independent of series_1!\n"
     ]
    },
    {
     "data": {
      "text/html": [
       "<div>\n",
       "<style scoped>\n",
       "    .dataframe tbody tr th:only-of-type {\n",
       "        vertical-align: middle;\n",
       "    }\n",
       "\n",
       "    .dataframe tbody tr th {\n",
       "        vertical-align: top;\n",
       "    }\n",
       "\n",
       "    .dataframe thead th {\n",
       "        text-align: right;\n",
       "    }\n",
       "</style>\n",
       "<table border=\"1\" class=\"dataframe\">\n",
       "  <thead>\n",
       "    <tr style=\"text-align: right;\">\n",
       "      <th>is_offering_existing_shares</th>\n",
       "      <th>0</th>\n",
       "      <th>1</th>\n",
       "    </tr>\n",
       "    <tr>\n",
       "      <th>target</th>\n",
       "      <th></th>\n",
       "      <th></th>\n",
       "    </tr>\n",
       "  </thead>\n",
       "  <tbody>\n",
       "    <tr>\n",
       "      <th>0</th>\n",
       "      <td>61</td>\n",
       "      <td>39</td>\n",
       "    </tr>\n",
       "    <tr>\n",
       "      <th>1</th>\n",
       "      <td>106</td>\n",
       "      <td>114</td>\n",
       "    </tr>\n",
       "  </tbody>\n",
       "</table>\n",
       "</div>"
      ],
      "text/plain": [
       "is_offering_existing_shares    0    1\n",
       "target                               \n",
       "0                             61   39\n",
       "1                            106  114"
      ]
     },
     "metadata": {},
     "output_type": "display_data"
    }
   ],
   "source": [
    "perform_chi_square_independence_test(ipo['target'], ipo['is_offering_existing_shares'])"
   ]
  },
  {
   "cell_type": "code",
   "execution_count": 38,
   "metadata": {},
   "outputs": [
    {
     "name": "stdout",
     "output_type": "stream",
     "text": [
      "The null hypothesis of the chi-square test of independence is that the series_1 is independent of series_2.\n",
      "p-value = P(reject H0|H0 true)\n",
      "p-value of the chi-square test of independence is equal to: 0.005\n",
      "p-value < 0.05, hence there is enough evidence to reject H0 -> series_2 is not independent of series_1!\n"
     ]
    },
    {
     "data": {
      "text/html": [
       "<div>\n",
       "<style scoped>\n",
       "    .dataframe tbody tr th:only-of-type {\n",
       "        vertical-align: middle;\n",
       "    }\n",
       "\n",
       "    .dataframe tbody tr th {\n",
       "        vertical-align: top;\n",
       "    }\n",
       "\n",
       "    .dataframe thead th {\n",
       "        text-align: right;\n",
       "    }\n",
       "</style>\n",
       "<table border=\"1\" class=\"dataframe\">\n",
       "  <thead>\n",
       "    <tr style=\"text-align: right;\">\n",
       "      <th>is_moving</th>\n",
       "      <th>0</th>\n",
       "      <th>1</th>\n",
       "    </tr>\n",
       "    <tr>\n",
       "      <th>target</th>\n",
       "      <th></th>\n",
       "      <th></th>\n",
       "    </tr>\n",
       "  </thead>\n",
       "  <tbody>\n",
       "    <tr>\n",
       "      <th>0</th>\n",
       "      <td>85</td>\n",
       "      <td>15</td>\n",
       "    </tr>\n",
       "    <tr>\n",
       "      <th>1</th>\n",
       "      <td>209</td>\n",
       "      <td>11</td>\n",
       "    </tr>\n",
       "  </tbody>\n",
       "</table>\n",
       "</div>"
      ],
      "text/plain": [
       "is_moving    0   1\n",
       "target            \n",
       "0           85  15\n",
       "1          209  11"
      ]
     },
     "metadata": {},
     "output_type": "display_data"
    }
   ],
   "source": [
    "perform_chi_square_independence_test(ipo['target'], ipo['is_moving'])"
   ]
  },
  {
   "cell_type": "code",
   "execution_count": 39,
   "metadata": {},
   "outputs": [
    {
     "name": "stdout",
     "output_type": "stream",
     "text": [
      "The null hypothesis of the chi-square test of independence is that the series_1 is independent of series_2.\n",
      "p-value = P(reject H0|H0 true)\n",
      "p-value of the chi-square test of independence is equal to: 0.003\n",
      "p-value < 0.05, hence there is enough evidence to reject H0 -> series_2 is not independent of series_1!\n"
     ]
    },
    {
     "data": {
      "text/html": [
       "<div>\n",
       "<style scoped>\n",
       "    .dataframe tbody tr th:only-of-type {\n",
       "        vertical-align: middle;\n",
       "    }\n",
       "\n",
       "    .dataframe tbody tr th {\n",
       "        vertical-align: top;\n",
       "    }\n",
       "\n",
       "    .dataframe thead th {\n",
       "        text-align: right;\n",
       "    }\n",
       "</style>\n",
       "<table border=\"1\" class=\"dataframe\">\n",
       "  <thead>\n",
       "    <tr style=\"text-align: right;\">\n",
       "      <th>target_lag1</th>\n",
       "      <th>0.0</th>\n",
       "      <th>1.0</th>\n",
       "    </tr>\n",
       "    <tr>\n",
       "      <th>target</th>\n",
       "      <th></th>\n",
       "      <th></th>\n",
       "    </tr>\n",
       "  </thead>\n",
       "  <tbody>\n",
       "    <tr>\n",
       "      <th>0</th>\n",
       "      <td>43</td>\n",
       "      <td>57</td>\n",
       "    </tr>\n",
       "    <tr>\n",
       "      <th>1</th>\n",
       "      <td>57</td>\n",
       "      <td>163</td>\n",
       "    </tr>\n",
       "  </tbody>\n",
       "</table>\n",
       "</div>"
      ],
      "text/plain": [
       "target_lag1  0.0  1.0\n",
       "target               \n",
       "0             43   57\n",
       "1             57  163"
      ]
     },
     "metadata": {},
     "output_type": "display_data"
    }
   ],
   "source": [
    "perform_chi_square_independence_test(ipo['target'], ipo['target_lag1'])"
   ]
  },
  {
   "cell_type": "code",
   "execution_count": 40,
   "metadata": {},
   "outputs": [
    {
     "name": "stdout",
     "output_type": "stream",
     "text": [
      "The null hypothesis of the chi-square test of independence is that the series_1 is independent of series_2.\n",
      "p-value = P(reject H0|H0 true)\n",
      "p-value of the chi-square test of independence is equal to: 0.234\n",
      "p-value > 0.05, hence there is not enough evidence to reject H0 -> series_2 is independent of series_1!\n"
     ]
    },
    {
     "data": {
      "text/html": [
       "<div>\n",
       "<style scoped>\n",
       "    .dataframe tbody tr th:only-of-type {\n",
       "        vertical-align: middle;\n",
       "    }\n",
       "\n",
       "    .dataframe tbody tr th {\n",
       "        vertical-align: top;\n",
       "    }\n",
       "\n",
       "    .dataframe thead th {\n",
       "        text-align: right;\n",
       "    }\n",
       "</style>\n",
       "<table border=\"1\" class=\"dataframe\">\n",
       "  <thead>\n",
       "    <tr style=\"text-align: right;\">\n",
       "      <th>sector_finance</th>\n",
       "      <th>0</th>\n",
       "      <th>1</th>\n",
       "    </tr>\n",
       "    <tr>\n",
       "      <th>target</th>\n",
       "      <th></th>\n",
       "      <th></th>\n",
       "    </tr>\n",
       "  </thead>\n",
       "  <tbody>\n",
       "    <tr>\n",
       "      <th>0</th>\n",
       "      <td>94</td>\n",
       "      <td>6</td>\n",
       "    </tr>\n",
       "    <tr>\n",
       "      <th>1</th>\n",
       "      <td>196</td>\n",
       "      <td>24</td>\n",
       "    </tr>\n",
       "  </tbody>\n",
       "</table>\n",
       "</div>"
      ],
      "text/plain": [
       "sector_finance    0   1\n",
       "target                 \n",
       "0                94   6\n",
       "1               196  24"
      ]
     },
     "metadata": {},
     "output_type": "display_data"
    },
    {
     "name": "stdout",
     "output_type": "stream",
     "text": [
      "The null hypothesis of the chi-square test of independence is that the series_1 is independent of series_2.\n",
      "p-value = P(reject H0|H0 true)\n",
      "p-value of the chi-square test of independence is equal to: 0.555\n",
      "p-value > 0.05, hence there is not enough evidence to reject H0 -> series_2 is independent of series_1!\n"
     ]
    },
    {
     "data": {
      "text/html": [
       "<div>\n",
       "<style scoped>\n",
       "    .dataframe tbody tr th:only-of-type {\n",
       "        vertical-align: middle;\n",
       "    }\n",
       "\n",
       "    .dataframe tbody tr th {\n",
       "        vertical-align: top;\n",
       "    }\n",
       "\n",
       "    .dataframe thead th {\n",
       "        text-align: right;\n",
       "    }\n",
       "</style>\n",
       "<table border=\"1\" class=\"dataframe\">\n",
       "  <thead>\n",
       "    <tr style=\"text-align: right;\">\n",
       "      <th>sector_healthcare_industry</th>\n",
       "      <th>0</th>\n",
       "      <th>1</th>\n",
       "    </tr>\n",
       "    <tr>\n",
       "      <th>target</th>\n",
       "      <th></th>\n",
       "      <th></th>\n",
       "    </tr>\n",
       "  </thead>\n",
       "  <tbody>\n",
       "    <tr>\n",
       "      <th>0</th>\n",
       "      <td>94</td>\n",
       "      <td>6</td>\n",
       "    </tr>\n",
       "    <tr>\n",
       "      <th>1</th>\n",
       "      <td>201</td>\n",
       "      <td>19</td>\n",
       "    </tr>\n",
       "  </tbody>\n",
       "</table>\n",
       "</div>"
      ],
      "text/plain": [
       "sector_healthcare_industry    0   1\n",
       "target                             \n",
       "0                            94   6\n",
       "1                           201  19"
      ]
     },
     "metadata": {},
     "output_type": "display_data"
    },
    {
     "name": "stdout",
     "output_type": "stream",
     "text": [
      "The null hypothesis of the chi-square test of independence is that the series_1 is independent of series_2.\n",
      "p-value = P(reject H0|H0 true)\n",
      "p-value of the chi-square test of independence is equal to: 1.0\n",
      "p-value > 0.05, hence there is not enough evidence to reject H0 -> series_2 is independent of series_1!\n"
     ]
    },
    {
     "data": {
      "text/html": [
       "<div>\n",
       "<style scoped>\n",
       "    .dataframe tbody tr th:only-of-type {\n",
       "        vertical-align: middle;\n",
       "    }\n",
       "\n",
       "    .dataframe tbody tr th {\n",
       "        vertical-align: top;\n",
       "    }\n",
       "\n",
       "    .dataframe thead th {\n",
       "        text-align: right;\n",
       "    }\n",
       "</style>\n",
       "<table border=\"1\" class=\"dataframe\">\n",
       "  <thead>\n",
       "    <tr style=\"text-align: right;\">\n",
       "      <th>sector_heavy_industry</th>\n",
       "      <th>0</th>\n",
       "      <th>1</th>\n",
       "    </tr>\n",
       "    <tr>\n",
       "      <th>target</th>\n",
       "      <th></th>\n",
       "      <th></th>\n",
       "    </tr>\n",
       "  </thead>\n",
       "  <tbody>\n",
       "    <tr>\n",
       "      <th>0</th>\n",
       "      <td>77</td>\n",
       "      <td>23</td>\n",
       "    </tr>\n",
       "    <tr>\n",
       "      <th>1</th>\n",
       "      <td>168</td>\n",
       "      <td>52</td>\n",
       "    </tr>\n",
       "  </tbody>\n",
       "</table>\n",
       "</div>"
      ],
      "text/plain": [
       "sector_heavy_industry    0   1\n",
       "target                        \n",
       "0                       77  23\n",
       "1                      168  52"
      ]
     },
     "metadata": {},
     "output_type": "display_data"
    },
    {
     "name": "stdout",
     "output_type": "stream",
     "text": [
      "The null hypothesis of the chi-square test of independence is that the series_1 is independent of series_2.\n",
      "p-value = P(reject H0|H0 true)\n",
      "p-value of the chi-square test of independence is equal to: 0.73\n",
      "p-value > 0.05, hence there is not enough evidence to reject H0 -> series_2 is independent of series_1!\n"
     ]
    },
    {
     "data": {
      "text/html": [
       "<div>\n",
       "<style scoped>\n",
       "    .dataframe tbody tr th:only-of-type {\n",
       "        vertical-align: middle;\n",
       "    }\n",
       "\n",
       "    .dataframe tbody tr th {\n",
       "        vertical-align: top;\n",
       "    }\n",
       "\n",
       "    .dataframe thead th {\n",
       "        text-align: right;\n",
       "    }\n",
       "</style>\n",
       "<table border=\"1\" class=\"dataframe\">\n",
       "  <thead>\n",
       "    <tr style=\"text-align: right;\">\n",
       "      <th>sector_information_technology</th>\n",
       "      <th>0</th>\n",
       "      <th>1</th>\n",
       "    </tr>\n",
       "    <tr>\n",
       "      <th>target</th>\n",
       "      <th></th>\n",
       "      <th></th>\n",
       "    </tr>\n",
       "  </thead>\n",
       "  <tbody>\n",
       "    <tr>\n",
       "      <th>0</th>\n",
       "      <td>85</td>\n",
       "      <td>15</td>\n",
       "    </tr>\n",
       "    <tr>\n",
       "      <th>1</th>\n",
       "      <td>182</td>\n",
       "      <td>38</td>\n",
       "    </tr>\n",
       "  </tbody>\n",
       "</table>\n",
       "</div>"
      ],
      "text/plain": [
       "sector_information_technology    0   1\n",
       "target                                \n",
       "0                               85  15\n",
       "1                              182  38"
      ]
     },
     "metadata": {},
     "output_type": "display_data"
    },
    {
     "name": "stdout",
     "output_type": "stream",
     "text": [
      "The null hypothesis of the chi-square test of independence is that the series_1 is independent of series_2.\n",
      "p-value = P(reject H0|H0 true)\n",
      "p-value of the chi-square test of independence is equal to: 0.269\n",
      "p-value > 0.05, hence there is not enough evidence to reject H0 -> series_2 is independent of series_1!\n"
     ]
    },
    {
     "data": {
      "text/html": [
       "<div>\n",
       "<style scoped>\n",
       "    .dataframe tbody tr th:only-of-type {\n",
       "        vertical-align: middle;\n",
       "    }\n",
       "\n",
       "    .dataframe tbody tr th {\n",
       "        vertical-align: top;\n",
       "    }\n",
       "\n",
       "    .dataframe thead th {\n",
       "        text-align: right;\n",
       "    }\n",
       "</style>\n",
       "<table border=\"1\" class=\"dataframe\">\n",
       "  <thead>\n",
       "    <tr style=\"text-align: right;\">\n",
       "      <th>sector_media</th>\n",
       "      <th>0</th>\n",
       "      <th>1</th>\n",
       "    </tr>\n",
       "    <tr>\n",
       "      <th>target</th>\n",
       "      <th></th>\n",
       "      <th></th>\n",
       "    </tr>\n",
       "  </thead>\n",
       "  <tbody>\n",
       "    <tr>\n",
       "      <th>0</th>\n",
       "      <td>98</td>\n",
       "      <td>2</td>\n",
       "    </tr>\n",
       "    <tr>\n",
       "      <th>1</th>\n",
       "      <td>208</td>\n",
       "      <td>12</td>\n",
       "    </tr>\n",
       "  </tbody>\n",
       "</table>\n",
       "</div>"
      ],
      "text/plain": [
       "sector_media    0   1\n",
       "target               \n",
       "0              98   2\n",
       "1             208  12"
      ]
     },
     "metadata": {},
     "output_type": "display_data"
    },
    {
     "name": "stdout",
     "output_type": "stream",
     "text": [
      "The null hypothesis of the chi-square test of independence is that the series_1 is independent of series_2.\n",
      "p-value = P(reject H0|H0 true)\n",
      "p-value of the chi-square test of independence is equal to: 0.38\n",
      "p-value > 0.05, hence there is not enough evidence to reject H0 -> series_2 is independent of series_1!\n"
     ]
    },
    {
     "data": {
      "text/html": [
       "<div>\n",
       "<style scoped>\n",
       "    .dataframe tbody tr th:only-of-type {\n",
       "        vertical-align: middle;\n",
       "    }\n",
       "\n",
       "    .dataframe tbody tr th {\n",
       "        vertical-align: top;\n",
       "    }\n",
       "\n",
       "    .dataframe thead th {\n",
       "        text-align: right;\n",
       "    }\n",
       "</style>\n",
       "<table border=\"1\" class=\"dataframe\">\n",
       "  <thead>\n",
       "    <tr style=\"text-align: right;\">\n",
       "      <th>sector_power</th>\n",
       "      <th>0</th>\n",
       "      <th>1</th>\n",
       "    </tr>\n",
       "    <tr>\n",
       "      <th>target</th>\n",
       "      <th></th>\n",
       "      <th></th>\n",
       "    </tr>\n",
       "  </thead>\n",
       "  <tbody>\n",
       "    <tr>\n",
       "      <th>0</th>\n",
       "      <td>94</td>\n",
       "      <td>6</td>\n",
       "    </tr>\n",
       "    <tr>\n",
       "      <th>1</th>\n",
       "      <td>213</td>\n",
       "      <td>7</td>\n",
       "    </tr>\n",
       "  </tbody>\n",
       "</table>\n",
       "</div>"
      ],
      "text/plain": [
       "sector_power    0  1\n",
       "target              \n",
       "0              94  6\n",
       "1             213  7"
      ]
     },
     "metadata": {},
     "output_type": "display_data"
    },
    {
     "name": "stdout",
     "output_type": "stream",
     "text": [
      "The null hypothesis of the chi-square test of independence is that the series_1 is independent of series_2.\n",
      "p-value = P(reject H0|H0 true)\n",
      "p-value of the chi-square test of independence is equal to: 0.647\n",
      "p-value > 0.05, hence there is not enough evidence to reject H0 -> series_2 is independent of series_1!\n"
     ]
    },
    {
     "data": {
      "text/html": [
       "<div>\n",
       "<style scoped>\n",
       "    .dataframe tbody tr th:only-of-type {\n",
       "        vertical-align: middle;\n",
       "    }\n",
       "\n",
       "    .dataframe tbody tr th {\n",
       "        vertical-align: top;\n",
       "    }\n",
       "\n",
       "    .dataframe thead th {\n",
       "        text-align: right;\n",
       "    }\n",
       "</style>\n",
       "<table border=\"1\" class=\"dataframe\">\n",
       "  <thead>\n",
       "    <tr style=\"text-align: right;\">\n",
       "      <th>sector_raw_materials</th>\n",
       "      <th>0</th>\n",
       "      <th>1</th>\n",
       "    </tr>\n",
       "    <tr>\n",
       "      <th>target</th>\n",
       "      <th></th>\n",
       "      <th></th>\n",
       "    </tr>\n",
       "  </thead>\n",
       "  <tbody>\n",
       "    <tr>\n",
       "      <th>0</th>\n",
       "      <td>91</td>\n",
       "      <td>9</td>\n",
       "    </tr>\n",
       "    <tr>\n",
       "      <th>1</th>\n",
       "      <td>205</td>\n",
       "      <td>15</td>\n",
       "    </tr>\n",
       "  </tbody>\n",
       "</table>\n",
       "</div>"
      ],
      "text/plain": [
       "sector_raw_materials    0   1\n",
       "target                       \n",
       "0                      91   9\n",
       "1                     205  15"
      ]
     },
     "metadata": {},
     "output_type": "display_data"
    },
    {
     "name": "stdout",
     "output_type": "stream",
     "text": [
      "The null hypothesis of the chi-square test of independence is that the series_1 is independent of series_2.\n",
      "p-value = P(reject H0|H0 true)\n",
      "p-value of the chi-square test of independence is equal to: 1.0\n",
      "p-value > 0.05, hence there is not enough evidence to reject H0 -> series_2 is independent of series_1!\n"
     ]
    },
    {
     "data": {
      "text/html": [
       "<div>\n",
       "<style scoped>\n",
       "    .dataframe tbody tr th:only-of-type {\n",
       "        vertical-align: middle;\n",
       "    }\n",
       "\n",
       "    .dataframe tbody tr th {\n",
       "        vertical-align: top;\n",
       "    }\n",
       "\n",
       "    .dataframe thead th {\n",
       "        text-align: right;\n",
       "    }\n",
       "</style>\n",
       "<table border=\"1\" class=\"dataframe\">\n",
       "  <thead>\n",
       "    <tr style=\"text-align: right;\">\n",
       "      <th>sector_raw_materials</th>\n",
       "      <th>0</th>\n",
       "      <th>1</th>\n",
       "    </tr>\n",
       "    <tr>\n",
       "      <th>target</th>\n",
       "      <th></th>\n",
       "      <th></th>\n",
       "    </tr>\n",
       "  </thead>\n",
       "  <tbody>\n",
       "    <tr>\n",
       "      <th>0</th>\n",
       "      <td>99</td>\n",
       "      <td>1</td>\n",
       "    </tr>\n",
       "    <tr>\n",
       "      <th>1</th>\n",
       "      <td>218</td>\n",
       "      <td>2</td>\n",
       "    </tr>\n",
       "  </tbody>\n",
       "</table>\n",
       "</div>"
      ],
      "text/plain": [
       "sector_raw_materials     0  1\n",
       "target                       \n",
       "0                       99  1\n",
       "1                      218  2"
      ]
     },
     "metadata": {},
     "output_type": "display_data"
    },
    {
     "name": "stdout",
     "output_type": "stream",
     "text": [
      "The null hypothesis of the chi-square test of independence is that the series_1 is independent of series_2.\n",
      "p-value = P(reject H0|H0 true)\n",
      "p-value of the chi-square test of independence is equal to: 0.035\n",
      "p-value < 0.05, hence there is enough evidence to reject H0 -> series_2 is not independent of series_1!\n"
     ]
    },
    {
     "data": {
      "text/html": [
       "<div>\n",
       "<style scoped>\n",
       "    .dataframe tbody tr th:only-of-type {\n",
       "        vertical-align: middle;\n",
       "    }\n",
       "\n",
       "    .dataframe tbody tr th {\n",
       "        vertical-align: top;\n",
       "    }\n",
       "\n",
       "    .dataframe thead th {\n",
       "        text-align: right;\n",
       "    }\n",
       "</style>\n",
       "<table border=\"1\" class=\"dataframe\">\n",
       "  <thead>\n",
       "    <tr style=\"text-align: right;\">\n",
       "      <th>sector_real_estate</th>\n",
       "      <th>0</th>\n",
       "      <th>1</th>\n",
       "    </tr>\n",
       "    <tr>\n",
       "      <th>target</th>\n",
       "      <th></th>\n",
       "      <th></th>\n",
       "    </tr>\n",
       "  </thead>\n",
       "  <tbody>\n",
       "    <tr>\n",
       "      <th>0</th>\n",
       "      <td>87</td>\n",
       "      <td>13</td>\n",
       "    </tr>\n",
       "    <tr>\n",
       "      <th>1</th>\n",
       "      <td>208</td>\n",
       "      <td>12</td>\n",
       "    </tr>\n",
       "  </tbody>\n",
       "</table>\n",
       "</div>"
      ],
      "text/plain": [
       "sector_real_estate    0   1\n",
       "target                     \n",
       "0                    87  13\n",
       "1                   208  12"
      ]
     },
     "metadata": {},
     "output_type": "display_data"
    },
    {
     "name": "stdout",
     "output_type": "stream",
     "text": [
      "The null hypothesis of the chi-square test of independence is that the series_1 is independent of series_2.\n",
      "p-value = P(reject H0|H0 true)\n",
      "p-value of the chi-square test of independence is equal to: 1.0\n",
      "p-value > 0.05, hence there is not enough evidence to reject H0 -> series_2 is independent of series_1!\n"
     ]
    },
    {
     "data": {
      "text/html": [
       "<div>\n",
       "<style scoped>\n",
       "    .dataframe tbody tr th:only-of-type {\n",
       "        vertical-align: middle;\n",
       "    }\n",
       "\n",
       "    .dataframe tbody tr th {\n",
       "        vertical-align: top;\n",
       "    }\n",
       "\n",
       "    .dataframe thead th {\n",
       "        text-align: right;\n",
       "    }\n",
       "</style>\n",
       "<table border=\"1\" class=\"dataframe\">\n",
       "  <thead>\n",
       "    <tr style=\"text-align: right;\">\n",
       "      <th>sector_retail_and_consumer_industry</th>\n",
       "      <th>0</th>\n",
       "      <th>1</th>\n",
       "    </tr>\n",
       "    <tr>\n",
       "      <th>target</th>\n",
       "      <th></th>\n",
       "      <th></th>\n",
       "    </tr>\n",
       "  </thead>\n",
       "  <tbody>\n",
       "    <tr>\n",
       "      <th>0</th>\n",
       "      <td>87</td>\n",
       "      <td>13</td>\n",
       "    </tr>\n",
       "    <tr>\n",
       "      <th>1</th>\n",
       "      <td>190</td>\n",
       "      <td>30</td>\n",
       "    </tr>\n",
       "  </tbody>\n",
       "</table>\n",
       "</div>"
      ],
      "text/plain": [
       "sector_retail_and_consumer_industry    0   1\n",
       "target                                      \n",
       "0                                     87  13\n",
       "1                                    190  30"
      ]
     },
     "metadata": {},
     "output_type": "display_data"
    },
    {
     "name": "stdout",
     "output_type": "stream",
     "text": [
      "The null hypothesis of the chi-square test of independence is that the series_1 is independent of series_2.\n",
      "p-value = P(reject H0|H0 true)\n",
      "p-value of the chi-square test of independence is equal to: 1.0\n",
      "p-value > 0.05, hence there is not enough evidence to reject H0 -> series_2 is independent of series_1!\n"
     ]
    },
    {
     "data": {
      "text/html": [
       "<div>\n",
       "<style scoped>\n",
       "    .dataframe tbody tr th:only-of-type {\n",
       "        vertical-align: middle;\n",
       "    }\n",
       "\n",
       "    .dataframe tbody tr th {\n",
       "        vertical-align: top;\n",
       "    }\n",
       "\n",
       "    .dataframe thead th {\n",
       "        text-align: right;\n",
       "    }\n",
       "</style>\n",
       "<table border=\"1\" class=\"dataframe\">\n",
       "  <thead>\n",
       "    <tr style=\"text-align: right;\">\n",
       "      <th>sector_retail_trade</th>\n",
       "      <th>0</th>\n",
       "      <th>1</th>\n",
       "    </tr>\n",
       "    <tr>\n",
       "      <th>target</th>\n",
       "      <th></th>\n",
       "      <th></th>\n",
       "    </tr>\n",
       "  </thead>\n",
       "  <tbody>\n",
       "    <tr>\n",
       "      <th>0</th>\n",
       "      <td>97</td>\n",
       "      <td>3</td>\n",
       "    </tr>\n",
       "    <tr>\n",
       "      <th>1</th>\n",
       "      <td>214</td>\n",
       "      <td>6</td>\n",
       "    </tr>\n",
       "  </tbody>\n",
       "</table>\n",
       "</div>"
      ],
      "text/plain": [
       "sector_retail_trade    0  1\n",
       "target                     \n",
       "0                     97  3\n",
       "1                    214  6"
      ]
     },
     "metadata": {},
     "output_type": "display_data"
    },
    {
     "name": "stdout",
     "output_type": "stream",
     "text": [
      "The null hypothesis of the chi-square test of independence is that the series_1 is independent of series_2.\n",
      "p-value = P(reject H0|H0 true)\n",
      "p-value of the chi-square test of independence is equal to: 0.578\n",
      "p-value > 0.05, hence there is not enough evidence to reject H0 -> series_2 is independent of series_1!\n"
     ]
    },
    {
     "data": {
      "text/html": [
       "<div>\n",
       "<style scoped>\n",
       "    .dataframe tbody tr th:only-of-type {\n",
       "        vertical-align: middle;\n",
       "    }\n",
       "\n",
       "    .dataframe tbody tr th {\n",
       "        vertical-align: top;\n",
       "    }\n",
       "\n",
       "    .dataframe thead th {\n",
       "        text-align: right;\n",
       "    }\n",
       "</style>\n",
       "<table border=\"1\" class=\"dataframe\">\n",
       "  <thead>\n",
       "    <tr style=\"text-align: right;\">\n",
       "      <th>sector_telecommunications</th>\n",
       "      <th>0</th>\n",
       "      <th>1</th>\n",
       "    </tr>\n",
       "    <tr>\n",
       "      <th>target</th>\n",
       "      <th></th>\n",
       "      <th></th>\n",
       "    </tr>\n",
       "  </thead>\n",
       "  <tbody>\n",
       "    <tr>\n",
       "      <th>0</th>\n",
       "      <td>97</td>\n",
       "      <td>3</td>\n",
       "    </tr>\n",
       "    <tr>\n",
       "      <th>1</th>\n",
       "      <td>217</td>\n",
       "      <td>3</td>\n",
       "    </tr>\n",
       "  </tbody>\n",
       "</table>\n",
       "</div>"
      ],
      "text/plain": [
       "sector_telecommunications    0  1\n",
       "target                           \n",
       "0                           97  3\n",
       "1                          217  3"
      ]
     },
     "metadata": {},
     "output_type": "display_data"
    }
   ],
   "source": [
    "ipo = pd.get_dummies(data=ipo, columns=['sector'])\n",
    "for col in ipo.columns[ipo.columns.str.contains(pat='sector')]:\n",
    "    perform_chi_square_independence_test(ipo['target'], ipo[col])"
   ]
  },
  {
   "attachments": {},
   "cell_type": "markdown",
   "metadata": {},
   "source": [
    "Summary\n",
    "* The obvious conclusion to be drawn from these tests is that the only categorical exogenous variables that are somehow connected with underpricing are: `is_moving` `is_offering_existing_shares`, and `target_lag1`."
   ]
  }
 ],
 "metadata": {
  "kernelspec": {
   "display_name": "Python 3",
   "language": "python",
   "name": "python3"
  },
  "language_info": {
   "codemirror_mode": {
    "name": "ipython",
    "version": 3
   },
   "file_extension": ".py",
   "mimetype": "text/x-python",
   "name": "python",
   "nbconvert_exporter": "python",
   "pygments_lexer": "ipython3",
   "version": "3.10.2"
  },
  "toc": {
   "base_numbering": 1,
   "nav_menu": {},
   "number_sections": true,
   "sideBar": true,
   "skip_h1_title": false,
   "title_cell": "Table of Contents",
   "title_sidebar": "Contents",
   "toc_cell": false,
   "toc_position": {
    "height": "calc(100% - 180px)",
    "left": "10px",
    "top": "150px",
    "width": "165px"
   },
   "toc_section_display": true,
   "toc_window_display": true
  },
  "vscode": {
   "interpreter": {
    "hash": "1a01f77628d9d4ced98b5e9bd35d207dce6dbf8f7ca6d9afc7b7c7db19b3d96c"
   }
  }
 },
 "nbformat": 4,
 "nbformat_minor": 4
}
